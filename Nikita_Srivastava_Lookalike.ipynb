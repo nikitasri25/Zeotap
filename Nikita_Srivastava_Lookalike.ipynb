{
 "cells": [
  {
   "cell_type": "code",
   "execution_count": 37,
   "id": "fe3f6cc4",
   "metadata": {},
   "outputs": [],
   "source": [
    "import pandas as pd\n",
    "from sklearn.metrics.pairwise import cosine_similarity"
   ]
  },
  {
   "cell_type": "code",
   "execution_count": 38,
   "id": "c0e81c56",
   "metadata": {},
   "outputs": [
    {
     "name": "stdout",
     "output_type": "stream",
     "text": [
      "Missing values before handling:\n",
      "CustomerID           0\n",
      "age                  0\n",
      "is_male              0\n",
      "total_spent          0\n",
      "transaction_count    0\n",
      "avg_spent            0\n",
      "Category             1\n",
      "dtype: int64\n"
     ]
    }
   ],
   "source": [
    "# Check for missing values and handle them\n",
    "print(\"Missing values before handling:\")\n",
    "print(features.isna().sum()) "
   ]
  },
  {
   "cell_type": "code",
   "execution_count": 39,
   "id": "222f216d",
   "metadata": {},
   "outputs": [
    {
     "name": "stderr",
     "output_type": "stream",
     "text": [
      "C:\\Users\\Nikita Srivastava\\AppData\\Local\\Temp\\ipykernel_19760\\1072008140.py:2: FutureWarning: The default value of numeric_only in DataFrame.mean is deprecated. In a future version, it will default to False. In addition, specifying 'numeric_only=None' is deprecated. Select only valid columns or specify the value of numeric_only to silence this warning.\n",
      "  features = features.fillna(features.mean())\n"
     ]
    }
   ],
   "source": [
    "# Fill missing values with column mean for numerical columns\n",
    "features = features.fillna(features.mean())\n"
   ]
  },
  {
   "cell_type": "code",
   "execution_count": 40,
   "id": "fb66e298",
   "metadata": {},
   "outputs": [
    {
     "name": "stdout",
     "output_type": "stream",
     "text": [
      "Missing values after handling:\n",
      "CustomerID           0\n",
      "age                  0\n",
      "is_male              0\n",
      "total_spent          0\n",
      "transaction_count    0\n",
      "avg_spent            0\n",
      "Category             1\n",
      "dtype: int64\n"
     ]
    }
   ],
   "source": [
    "# Checking if there are still missing values\n",
    "print(\"Missing values after handling:\")\n",
    "print(features.isna().sum())"
   ]
  },
  {
   "cell_type": "code",
   "execution_count": 41,
   "id": "aee76fed",
   "metadata": {},
   "outputs": [],
   "source": [
    "# Creating the feature matrix for similarity calculation\n",
    "feature_matrix = features[['age', 'is_male', 'total_spent', 'transaction_count', 'avg_spent']]"
   ]
  },
  {
   "cell_type": "code",
   "execution_count": 42,
   "id": "e7498bef",
   "metadata": {},
   "outputs": [],
   "source": [
    "# Calculating cosine similarity\n",
    "similarity_matrix = cosine_similarity(feature_matrix)"
   ]
  },
  {
   "cell_type": "code",
   "execution_count": 43,
   "id": "2f4e8425",
   "metadata": {},
   "outputs": [],
   "source": [
    "# Getting top 3 similar customers for each of the first 20 customers (C0001 to C0020)\n",
    "lookalike_dict = {}"
   ]
  },
  {
   "cell_type": "code",
   "execution_count": 44,
   "id": "6d7ff84c",
   "metadata": {},
   "outputs": [],
   "source": [
    "for customer_id in range(1, 21):  # For C0001 to C0020\n",
    "    customer_idx = customer_id - 1  # Adjust index for 0-based indexing\n",
    "    similarity_scores = similarity_matrix[customer_idx]\n",
    "    \n",
    "    # Getting indices of top 3 similar customers, excluding the customer itself\n",
    "    similar_customer_indices = similarity_scores.argsort()[-4:-1]  # Top 3, excluding self (self is at index 0)\n",
    "    \n",
    "    # Preparing the list of top 3 similar customers with their similarity scores\n",
    "    similar_customers = [(f'C{idx+1:04d}', similarity_scores[idx]) for idx in similar_customer_indices]\n",
    "    \n",
    "    # Storing in the dictionary\n",
    "    lookalike_dict[f'C{customer_id:04d}'] = similar_customers"
   ]
  },
  {
   "cell_type": "code",
   "execution_count": 45,
   "id": "6a027b7e",
   "metadata": {},
   "outputs": [],
   "source": [
    "# Saving it to a CSV file\n",
    "lookalike_df = pd.DataFrame.from_dict(lookalike_dict, orient='index')\n",
    "lookalike_df.to_csv('Lookalike.csv', header=False)\n"
   ]
  },
  {
   "cell_type": "code",
   "execution_count": 46,
   "id": "b6bc25ad",
   "metadata": {},
   "outputs": [
    {
     "name": "stdout",
     "output_type": "stream",
     "text": [
      "{'C0001': [('C0011', 0.9577255957240236), ('C0180', 0.9972870485112197), ('C0152', 0.9996980180004738)], 'C0002': [('C0010', 0.9978769624919364), ('C0199', 0.9982970556285776), ('C0029', 0.9993699721524977)], 'C0003': [('C0177', 0.9817865067669984), ('C0146', 0.990333559548811), ('C0035', 0.9922593409857258)], 'C0004': [('C0108', 0.9813819623640224), ('C0113', 0.981475933953967), ('C0173', 0.9896276476026519)], 'C0005': [('C0112', 0.9980720438403259), ('C0159', 0.9994778705378558), ('C0073', 0.9997529400836948)], 'C0006': [('C0044', 0.9450364709036342), ('C0066', 0.9690347819656097), ('C0117', 0.9967639001336546)], 'C0007': [('C0070', 0.9480766355460091), ('C0135', 0.9485295474782991), ('C0176', 0.978262343947951)], 'C0008': [('C0098', 0.9319696531971403), ('C0093', 0.9381622452120447), ('C0084', 0.9929556413227604)], 'C0009': [('C0097', 0.9875640117232274), ('C0043', 0.9962880646785033), ('C0077', 0.9998319470328094)], 'C0010': [('C0002', 0.9978769624919364), ('C0025', 0.998695268464687), ('C0029', 0.9995597496547097)], 'C0011': [('C0001', 0.9577255957240236), ('C0152', 0.9645058585919567), ('C0180', 0.9759246379992133)], 'C0012': [('C0143', 0.9623754752689865), ('C0013', 0.9655964764760991), ('C0046', 0.9890027303511003)], 'C0013': [('C0087', 0.989708477203547), ('C0046', 0.9934375066023619), ('C0143', 0.9999266244893454)], 'C0014': [('C0033', 0.9838016205634615), ('C0151', 0.9951634593500293), ('C0058', 0.9957836637739599)], 'C0015': [('C0197', 0.9956001380266704), ('C0186', 0.99619914259883), ('C0132', 0.9994662616224823)], 'C0016': [('C0187', 0.9028211092952071), ('C0183', 0.9998130148554853), ('C0048', 0.9998240520555758)], 'C0017': [('C0067', 0.9588167104036746), ('C0075', 0.9735236534676713), ('C0090', 0.9856159088102362)], 'C0018': [('C0138', 0.9762841345875107), ('C0187', 0.9977427659408322), ('C0182', 0.9977599825813325)], 'C0019': [('C0088', 0.9521487762673891), ('C0119', 0.9534905379412589), ('C0034', 0.955153982654267)], 'C0020': [('C0080', 0.9926872862341704), ('C0078', 0.9945316427262932), ('C0110', 0.9995715303308785)]}\n"
     ]
    }
   ],
   "source": [
    "# Displaying the Lookalike map\n",
    "print(lookalike_dict)"
   ]
  }
 ],
 "metadata": {
  "kernelspec": {
   "display_name": "Python 3 (ipykernel)",
   "language": "python",
   "name": "python3"
  },
  "language_info": {
   "codemirror_mode": {
    "name": "ipython",
    "version": 3
   },
   "file_extension": ".py",
   "mimetype": "text/x-python",
   "name": "python",
   "nbconvert_exporter": "python",
   "pygments_lexer": "ipython3",
   "version": "3.11.3"
  }
 },
 "nbformat": 4,
 "nbformat_minor": 5
}
